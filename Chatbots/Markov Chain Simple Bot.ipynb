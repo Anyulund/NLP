{
 "cells": [
  {
   "cell_type": "markdown",
   "metadata": {},
   "source": [
    "### Markov Chain Bot in 50 Lines of Code \n",
    "Reproducing code from this tutorial https://www.codingame.com/playgrounds/41655/how-to-build-a-chatbot-in-less-than-50-lines-of-code"
   ]
  },
  {
   "cell_type": "code",
   "execution_count": null,
   "metadata": {},
   "outputs": [],
   "source": [
    "import os\n",
    "\n",
    "f = open('MLKSpeech.txt', 'r')\n",
    "result = f.read()\n",
    "print(result)\n"
   ]
  },
  {
   "cell_type": "code",
   "execution_count": null,
   "metadata": {},
   "outputs": [],
   "source": [
    "def get_random(self):\n",
    "      ran = random.randint(0, self._total - 1)\n",
    "      for key, value in self._successors.items():\n",
    "          if ran < value:\n",
    "              return key\n",
    "          else:\n",
    "              ran -= value\n"
   ]
  },
  {
   "cell_type": "code",
   "execution_count": null,
   "metadata": {},
   "outputs": [],
   "source": [
    "import random, re\n",
    "from collections import defaultdict\n",
    "\n",
    "class LString:\n",
    "    def __init__(self):\n",
    "        self._total = 0\n",
    "        self._successors = defaultdict(int)\n",
    "\n",
    "    def put(self, word):\n",
    "        self._successors[word] += 1\n",
    "        self._total += 1\n",
    "\n",
    "    def get_random(self):\n",
    "        ran = random.randint(0, self._total - 1)\n",
    "        for key, value in self._successors.items():\n",
    "            if ran < value:\n",
    "                return key\n",
    "            else:\n",
    "                ran -= value\n",
    "\n",
    "couple_words = defaultdict(LString)\n",
    "\n",
    "def load(phrases):\n",
    "    with open(phrases, 'r') as f:\n",
    "        for line in f:\n",
    "            add_message(line)\n",
    "\n",
    "def add_message(message):\n",
    "    message = re.sub(r'[^\\w\\s\\']', '', message).lower().strip()\n",
    "    words = message.split()\n",
    "    for i in range(2, len(words)):\n",
    "        couple_words[(words[i - 2], words[i - 1])].put(words[i])\n",
    "    couple_words[(words[-2], words[-1])].put(\"\")\n",
    "\n",
    "def generate():\n",
    "    result = []\n",
    "    while len(result) < 10 or len(result) > 20:\n",
    "        result = []\n",
    "        s = random.choice(list(couple_words.keys()))\n",
    "        result.extend(s)\n",
    "        while result[-1]:\n",
    "            w = couple_words[(result[-2], result[-1])].get_random()\n",
    "            result.append(w)\n",
    "\n",
    "    return \" \".join(result)\n",
    "\n",
    "if __name__ == \"__main__\":\n",
    "    load(\"MLKSpeech.txt\")\n",
    "    print(generate())\n",
    "    \n",
    "clear\n"
   ]
  },
  {
   "cell_type": "code",
   "execution_count": null,
   "metadata": {},
   "outputs": [],
   "source": []
  }
 ],
 "metadata": {
  "kernelspec": {
   "display_name": "Python 3",
   "language": "python",
   "name": "python3"
  },
  "language_info": {
   "codemirror_mode": {
    "name": "ipython",
    "version": 3
   },
   "file_extension": ".py",
   "mimetype": "text/x-python",
   "name": "python",
   "nbconvert_exporter": "python",
   "pygments_lexer": "ipython3",
   "version": "3.5.2"
  }
 },
 "nbformat": 4,
 "nbformat_minor": 4
}
