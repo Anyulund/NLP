{
 "cells": [
  {
   "cell_type": "code",
   "execution_count": null,
   "metadata": {},
   "outputs": [],
   "source": [
    "# How to use Virtual Environment to install Python Libraries for NLP\n",
    "\n",
    "Now use Virtual Environment to install NLP Python libraries. \n",
    "\n",
    "```Python\n",
    "cwd=$(pwd)\n",
    "# create virtual environment\n",
    "python3 -m venv nlp-fun\n",
    "\n",
    "echo \"# Alias for activating the environment\" >> ~/.bashrc\n",
    "echo \"alias workonnlpfun=\\\"source $cwd/nlp-fun/bin/activate\\\"\" >> ~/.bashrc\n",
    "source ~/.bashrc\n",
    "source \"$cwd\"/nlp-fun/bin/activate\n",
    "\n",
    "# now install python libraries within this virtual environment\n",
    "pip3 install --upgrade pip\n",
    "pip install wheel numpy scipy matplotlib scikit-image scikit-learn ipython dlib\n",
    "\n",
    "# quit virtual environment\n",
    "deactivate\n",
    "```"
   ]
  }
 ],
 "metadata": {
  "kernelspec": {
   "display_name": "Python 3",
   "language": "python",
   "name": "python3"
  }
 },
 "nbformat": 4,
 "nbformat_minor": 2
}
