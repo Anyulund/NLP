{
 "cells": [
  {
   "cell_type": "markdown",
   "metadata": {},
   "source": [
    "# How to use Virtual Environment to install Python Libraries for NLP\n",
    "\n",
    "<code>\n",
    "sudo apt -y update\n",
    "sudo apt -y upgrade\n",
    "\n",
    "sudo apt-get install python3-dev python3-pip python3-venv\n",
    "sudo -H pip3 install -U pip numpy\n",
    "sudo apt-get install libx11-dev libgtk-3-dev libboost-python-dev\n",
    "sudo apt-get install python3-testresources\n",
    "sudo apt-get install build-essential checkinstall cmake pkg-config yasm\n",
    "</code>\n",
    "\n"
   ]
  },
  {
   "cell_type": "markdown",
   "metadata": {},
   "source": [
    "Now use Virtual Environment to install NLP Python libraries. "
   ]
  },
  {
   "cell_type": "markdown",
   "metadata": {},
   "source": [
    "```Python\n",
    "cwd=$(pwd)\n",
    "# create virtual environment\n",
    "python3 -m venv nlp-fun\n",
    "\n",
    "echo \"# Alias for activating the environment\" >> ~/.bashrc\n",
    "echo \"alias workonnlpfun=\\\"source $cwd/nlp-fun/bin/activate\\\"\" >> ~/.bashrc\n",
    "source ~/.bashrc\n",
    "source \"$cwd\"/nlp-fun/bin/activate\n",
    "\n",
    "# now install python libraries within this virtual environment\n",
    "pip3 install --upgrade pip\n",
    "pip install wheel numpy scipy matplotlib scikit-image scikit-learn ipython dlib\n",
    "\n",
    "# quit virtual environment\n",
    "deactivate\n",
    "```"
   ]
  },
  {
   "cell_type": "code",
   "execution_count": null,
   "metadata": {},
   "outputs": [],
   "source": []
  }
 ],
 "metadata": {
  "kernelspec": {
   "display_name": "Python 3",
   "language": "python",
   "name": "python3"
  },
  "language_info": {
   "codemirror_mode": {
    "name": "ipython",
    "version": 3
   },
   "file_extension": ".py",
   "mimetype": "text/x-python",
   "name": "python",
   "nbconvert_exporter": "python",
   "pygments_lexer": "ipython3",
   "version": "3.5.2"
  }
 },
 "nbformat": 4,
 "nbformat_minor": 4
}
