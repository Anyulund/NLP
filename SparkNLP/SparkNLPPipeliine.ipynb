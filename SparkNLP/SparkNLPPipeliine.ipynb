{
  "nbformat": 4,
  "nbformat_minor": 0,
  "metadata": {
    "colab": {
      "name": "SparkNLPPipeliine.ipynb",
      "provenance": [],
      "collapsed_sections": [],
      "authorship_tag": "ABX9TyNWFK2Se6wFrzTxLLu6Ukcw",
      "include_colab_link": true
    },
    "kernelspec": {
      "name": "python3",
      "display_name": "Python 3"
    }
  },
  "cells": [
    {
      "cell_type": "markdown",
      "metadata": {
        "id": "view-in-github",
        "colab_type": "text"
      },
      "source": [
        "<a href=\"https://colab.research.google.com/github/Anyulund/NLP/blob/master/SparkNLPPipeliine.ipynb\" target=\"_parent\"><img src=\"https://colab.research.google.com/assets/colab-badge.svg\" alt=\"Open In Colab\"/></a>"
      ]
    },
    {
      "cell_type": "code",
      "metadata": {
        "colab": {
          "base_uri": "https://localhost:8080/"
        },
        "id": "Had6K2U3mjfh",
        "outputId": "c99121dc-b619-4907-de14-393d88e19dc9"
      },
      "source": [
        "from google.colab import drive \n",
        "drive.mount('/content/gdrive')"
      ],
      "execution_count": null,
      "outputs": [
        {
          "output_type": "stream",
          "text": [
            "Drive already mounted at /content/gdrive; to attempt to forcibly remount, call drive.mount(\"/content/gdrive\", force_remount=True).\n"
          ],
          "name": "stdout"
        }
      ]
    },
    {
      "cell_type": "markdown",
      "metadata": {
        "id": "K1AuOPE6rcH2"
      },
      "source": [
        "Task 1 - Install Spark, load required libraries, set environment variables, initiate Spark, load file "
      ]
    },
    {
      "cell_type": "code",
      "metadata": {
        "colab": {
          "base_uri": "https://localhost:8080/",
          "height": 35
        },
        "id": "FWd6V-m2u6ih",
        "outputId": "6cfa952b-147a-46bd-da0a-af44a41bb8eb"
      },
      "source": [
        "'''\n",
        "import shutil\n",
        "\n",
        "shutil.rmtree('/content/spark-3.0.0-bin-hadoop3.2.tgz')\n",
        "'''"
      ],
      "execution_count": null,
      "outputs": [
        {
          "output_type": "execute_result",
          "data": {
            "application/vnd.google.colaboratory.intrinsic+json": {
              "type": "string"
            },
            "text/plain": [
              "\"\\nimport shutil\\n\\nshutil.rmtree('/content/spark-3.0.0-bin-hadoop3.2.tgz')\\n\""
            ]
          },
          "metadata": {
            "tags": []
          },
          "execution_count": 6
        }
      ]
    },
    {
      "cell_type": "code",
      "metadata": {
        "id": "VAqSk7Curpi0"
      },
      "source": [
        "# innstall java\n",
        "!apt-get install openjdk-8-jdk-headless -qq > /dev/null\n",
        "\n",
        "# install spark (change the version number if needed)\n",
        "!wget -q https://archive.apache.org/dist/spark/spark-3.1.1/spark-3.1.1-bin-hadoop3.2.tgz\n",
        "\n",
        "# unzip the spark file to the current folder\n",
        "!tar xf spark-3.1.1-bin-hadoop3.2.tgz\n",
        "\n",
        "# set your spark folder to your system path environment. \n",
        "import os\n",
        "os.environ[\"JAVA_HOME\"] = \"/usr/lib/jvm/java-8-openjdk-amd64\"\n",
        "os.environ[\"SPARK_HOME\"] = \"/content/spark-3.1.1-bin-hadoop3.2\"\n",
        "\n",
        "\n",
        "# install findspark using pip\n",
        "!pip install -q findspark"
      ],
      "execution_count": null,
      "outputs": []
    },
    {
      "cell_type": "code",
      "metadata": {
        "id": "-sWRybSes3vE"
      },
      "source": [
        "import os\n",
        "import findspark\n",
        "findspark.init()\n",
        "from google.colab import files\n",
        "from pyspark.sql import SparkSession\n",
        "from pyspark.ml.feature import VectorAssembler\n",
        "from pyspark.sql.functions import isnan, when, count, col, lit\n",
        "from pyspark.ml.regression import RandomForestRegressor\n",
        "from pyspark.ml.evaluation import RegressionEvaluator\n",
        "from pyspark.ml import Pipeline\n",
        "from pyspark.ml.tuning import CrossValidator\n",
        "from pyspark.ml.evaluation import RegressionEvaluator\n",
        "from pyspark.ml.tuning import ParamGridBuilder"
      ],
      "execution_count": null,
      "outputs": []
    },
    {
      "cell_type": "code",
      "metadata": {
        "id": "MuV8P1Y8voWu"
      },
      "source": [
        "sc = SparkSession.builder.master(\"local[*]\").getOrCreate()"
      ],
      "execution_count": null,
      "outputs": []
    },
    {
      "cell_type": "code",
      "metadata": {
        "id": "TAU4wYvJwZj3"
      },
      "source": [
        "#files.upload()"
      ],
      "execution_count": null,
      "outputs": []
    },
    {
      "cell_type": "code",
      "metadata": {
        "id": "bNFgTkC3w9h4"
      },
      "source": [
        "data = sc.read.csv('/content/gdrive/MyDrive/MLPipelines/data.csv',inferSchema=True, header=True)"
      ],
      "execution_count": null,
      "outputs": []
    },
    {
      "cell_type": "code",
      "metadata": {
        "colab": {
          "base_uri": "https://localhost:8080/",
          "height": 837
        },
        "id": "XeHE4F3CyB_7",
        "outputId": "5d718f89-1e8e-4716-a796-ec952fbddc11"
      },
      "source": [
        "data.printSchema()\n",
        "data.describe().toPandas().transpose()"
      ],
      "execution_count": null,
      "outputs": [
        {
          "output_type": "stream",
          "text": [
            "root\n",
            " |-- pider: string (nullable = true)\n",
            " |-- 2017: string (nullable = true)\n",
            " |-- premium unleaded (recommended): integer (nullable = true)\n",
            " |-- 160: string (nullable = true)\n",
            " |-- 4: integer (nullable = true)\n",
            " |-- MANUAL: integer (nullable = true)\n",
            " |-- rear wheel drive: string (nullable = true)\n",
            " |-- 2: string (nullable = true)\n",
            " |-- Performance: integer (nullable = true)\n",
            " |-- Compact: string (nullable = true)\n",
            " |-- Convertible: string (nullable = true)\n",
            " |-- 35: string (nullable = true)\n",
            " |-- 26: integer (nullable = true)\n",
            " |-- 819: integer (nullable = true)\n",
            " |-- 24995: integer (nullable = true)\n",
            "\n"
          ],
          "name": "stdout"
        },
        {
          "output_type": "execute_result",
          "data": {
            "text/html": [
              "<div>\n",
              "<style scoped>\n",
              "    .dataframe tbody tr th:only-of-type {\n",
              "        vertical-align: middle;\n",
              "    }\n",
              "\n",
              "    .dataframe tbody tr th {\n",
              "        vertical-align: top;\n",
              "    }\n",
              "\n",
              "    .dataframe thead th {\n",
              "        text-align: right;\n",
              "    }\n",
              "</style>\n",
              "<table border=\"1\" class=\"dataframe\">\n",
              "  <thead>\n",
              "    <tr style=\"text-align: right;\">\n",
              "      <th></th>\n",
              "      <th>0</th>\n",
              "      <th>1</th>\n",
              "      <th>2</th>\n",
              "      <th>3</th>\n",
              "      <th>4</th>\n",
              "    </tr>\n",
              "  </thead>\n",
              "  <tbody>\n",
              "    <tr>\n",
              "      <th>summary</th>\n",
              "      <td>count</td>\n",
              "      <td>mean</td>\n",
              "      <td>stddev</td>\n",
              "      <td>min</td>\n",
              "      <td>max</td>\n",
              "    </tr>\n",
              "    <tr>\n",
              "      <th>pider</th>\n",
              "      <td>11880</td>\n",
              "      <td>None</td>\n",
              "      <td>None</td>\n",
              "      <td>Acura</td>\n",
              "      <td>Volvo</td>\n",
              "    </tr>\n",
              "    <tr>\n",
              "      <th>2017</th>\n",
              "      <td>11880</td>\n",
              "      <td>767.8436781609196</td>\n",
              "      <td>1511.4508757153594</td>\n",
              "      <td>124 Spider</td>\n",
              "      <td>xD</td>\n",
              "    </tr>\n",
              "    <tr>\n",
              "      <th>premium unleaded (recommended)</th>\n",
              "      <td>11880</td>\n",
              "      <td>2010.4026094276094</td>\n",
              "      <td>7.56446225730375</td>\n",
              "      <td>1990</td>\n",
              "      <td>2017</td>\n",
              "    </tr>\n",
              "    <tr>\n",
              "      <th>160</th>\n",
              "      <td>11877</td>\n",
              "      <td>None</td>\n",
              "      <td>None</td>\n",
              "      <td>diesel</td>\n",
              "      <td>regular unleaded</td>\n",
              "    </tr>\n",
              "    <tr>\n",
              "      <th>4</th>\n",
              "      <td>11811</td>\n",
              "      <td>249.46769960206586</td>\n",
              "      <td>109.29410966315454</td>\n",
              "      <td>55</td>\n",
              "      <td>1001</td>\n",
              "    </tr>\n",
              "    <tr>\n",
              "      <th>MANUAL</th>\n",
              "      <td>11850</td>\n",
              "      <td>5.628101265822785</td>\n",
              "      <td>1.782882058448863</td>\n",
              "      <td>0</td>\n",
              "      <td>16</td>\n",
              "    </tr>\n",
              "    <tr>\n",
              "      <th>rear wheel drive</th>\n",
              "      <td>11880</td>\n",
              "      <td>None</td>\n",
              "      <td>None</td>\n",
              "      <td>AUTOMATED_MANUAL</td>\n",
              "      <td>UNKNOWN</td>\n",
              "    </tr>\n",
              "    <tr>\n",
              "      <th>2</th>\n",
              "      <td>11880</td>\n",
              "      <td>None</td>\n",
              "      <td>None</td>\n",
              "      <td>all wheel drive</td>\n",
              "      <td>rear wheel drive</td>\n",
              "    </tr>\n",
              "    <tr>\n",
              "      <th>Performance</th>\n",
              "      <td>11874</td>\n",
              "      <td>3.4376789624389423</td>\n",
              "      <td>0.8804751303515581</td>\n",
              "      <td>2</td>\n",
              "      <td>4</td>\n",
              "    </tr>\n",
              "    <tr>\n",
              "      <th>Compact</th>\n",
              "      <td>11880</td>\n",
              "      <td>None</td>\n",
              "      <td>None</td>\n",
              "      <td>Crossover</td>\n",
              "      <td>Performance,Hybrid</td>\n",
              "    </tr>\n",
              "    <tr>\n",
              "      <th>Convertible</th>\n",
              "      <td>11880</td>\n",
              "      <td>None</td>\n",
              "      <td>None</td>\n",
              "      <td>Compact</td>\n",
              "      <td>Midsize</td>\n",
              "    </tr>\n",
              "    <tr>\n",
              "      <th>35</th>\n",
              "      <td>11880</td>\n",
              "      <td>None</td>\n",
              "      <td>None</td>\n",
              "      <td>2dr Hatchback</td>\n",
              "      <td>Wagon</td>\n",
              "    </tr>\n",
              "    <tr>\n",
              "      <th>26</th>\n",
              "      <td>11880</td>\n",
              "      <td>26.640319865319864</td>\n",
              "      <td>8.8733552239703</td>\n",
              "      <td>12</td>\n",
              "      <td>354</td>\n",
              "    </tr>\n",
              "    <tr>\n",
              "      <th>819</th>\n",
              "      <td>11880</td>\n",
              "      <td>19.737710437710437</td>\n",
              "      <td>8.999381266550028</td>\n",
              "      <td>7</td>\n",
              "      <td>137</td>\n",
              "    </tr>\n",
              "    <tr>\n",
              "      <th>24995</th>\n",
              "      <td>11880</td>\n",
              "      <td>1549.6992424242424</td>\n",
              "      <td>1440.0579106849182</td>\n",
              "      <td>2</td>\n",
              "      <td>5657</td>\n",
              "    </tr>\n",
              "  </tbody>\n",
              "</table>\n",
              "</div>"
            ],
            "text/plain": [
              "                                    0  ...                   4\n",
              "summary                         count  ...                 max\n",
              "pider                           11880  ...               Volvo\n",
              "2017                            11880  ...                  xD\n",
              "premium unleaded (recommended)  11880  ...                2017\n",
              "160                             11877  ...    regular unleaded\n",
              "4                               11811  ...                1001\n",
              "MANUAL                          11850  ...                  16\n",
              "rear wheel drive                11880  ...             UNKNOWN\n",
              "2                               11880  ...    rear wheel drive\n",
              "Performance                     11874  ...                   4\n",
              "Compact                         11880  ...  Performance,Hybrid\n",
              "Convertible                     11880  ...             Midsize\n",
              "35                              11880  ...               Wagon\n",
              "26                              11880  ...                 354\n",
              "819                             11880  ...                 137\n",
              "24995                           11880  ...                5657\n",
              "\n",
              "[16 rows x 5 columns]"
            ]
          },
          "metadata": {
            "tags": []
          },
          "execution_count": 19
        }
      ]
    },
    {
      "cell_type": "code",
      "metadata": {
        "id": "l_pURzFC5QWg"
      },
      "source": [
        "# Replace all None with N/A so Spark can read the missing values \n",
        "def replace(column, value):\n",
        "  return when(column !=value, column).otherwise(lit(None))\n",
        "\n",
        "data = data.withColumn(\"Compact\", replace(col(\"Compact\"), \"N/A\"))"
      ],
      "execution_count": null,
      "outputs": []
    },
    {
      "cell_type": "code",
      "metadata": {
        "colab": {
          "base_uri": "https://localhost:8080/"
        },
        "id": "WTMIqx5C6ukK",
        "outputId": "601fce6d-d923-41ee-ccf5-54e992cb8e47"
      },
      "source": [
        "data.select([count(when(isnan(c) | col(c).isNull(), c)).alias(c) for c in data.columns]).show()"
      ],
      "execution_count": null,
      "outputs": [
        {
          "output_type": "stream",
          "text": [
            "+-----+----+------------------------------+---+---+------+----------------+---+-----------+-------+-----------+---+---+---+-----+\n",
            "|pider|2017|premium unleaded (recommended)|160|  4|MANUAL|rear wheel drive|  2|Performance|Compact|Convertible| 35| 26|819|24995|\n",
            "+-----+----+------------------------------+---+---+------+----------------+---+-----------+-------+-----------+---+---+---+-----+\n",
            "|    0|   0|                             0|  3| 69|    30|               0|  0|          6|   3742|          0|  0|  0|  0|    0|\n",
            "+-----+----+------------------------------+---+---+------+----------------+---+-----------+-------+-----------+---+---+---+-----+\n",
            "\n"
          ],
          "name": "stdout"
        }
      ]
    },
    {
      "cell_type": "code",
      "metadata": {
        "colab": {
          "base_uri": "https://localhost:8080/"
        },
        "id": "ic0Ji8a68TmE",
        "outputId": "a97076d7-5a27-4dde-8337-54561e0a852e"
      },
      "source": [
        "data = data.drop('Compact')\n",
        "data = data.na.drop()\n",
        "print(data.count(),len(data.columns))"
      ],
      "execution_count": null,
      "outputs": [
        {
          "output_type": "stream",
          "text": [
            "11778 14\n"
          ],
          "name": "stdout"
        }
      ]
    },
    {
      "cell_type": "code",
      "metadata": {
        "colab": {
          "base_uri": "https://localhost:8080/"
        },
        "id": "Wwn2QKWmABUP",
        "outputId": "6f0be3f5-4347-4128-a02a-46fa3956aba8"
      },
      "source": [
        "data.columns"
      ],
      "execution_count": null,
      "outputs": [
        {
          "output_type": "execute_result",
          "data": {
            "text/plain": [
              "['pider',\n",
              " '2017',\n",
              " 'premium unleaded (recommended)',\n",
              " '160',\n",
              " '4',\n",
              " 'MANUAL',\n",
              " 'rear wheel drive',\n",
              " '2',\n",
              " 'Performance',\n",
              " 'Convertible',\n",
              " '35',\n",
              " '26',\n",
              " '819',\n",
              " '24995']"
            ]
          },
          "metadata": {
            "tags": []
          },
          "execution_count": 28
        }
      ]
    },
    {
      "cell_type": "code",
      "metadata": {
        "colab": {
          "base_uri": "https://localhost:8080/"
        },
        "id": "EhIgS6J1_nFI",
        "outputId": "c9947956-35d0-494b-a993-5ddf7e14a881"
      },
      "source": [
        "# combine many columns into one called \\'Attributes' using VectorAssembler \n",
        "assembler = VectorAssembler(inputCols = ['premium unleaded (recommended)', '4','MANUAL', '26','819','24995'], outputCol = 'Attributes')\n",
        "\n",
        "regressor = RandomForestRegressor(featuresCol='Attributes',labelCol='Performance')\n",
        "pipeline = Pipeline(stages=(assembler,regressor))\n",
        "pipeline.write().overwrite().save('pipeline') # lets you overwrite and save the pipeline without an error \n",
        "!ls\n"
      ],
      "execution_count": null,
      "outputs": [
        {
          "output_type": "stream",
          "text": [
            "gdrive\t  sample_data\t\t     spark-3.1.1-bin-hadoop3.2.tgz\n",
            "pipeline  spark-3.1.1-bin-hadoop3.2\n"
          ],
          "name": "stdout"
        }
      ]
    },
    {
      "cell_type": "code",
      "metadata": {
        "id": "-ywKRaYUBodn"
      },
      "source": [
        "pipelineModel = Pipeline.load('pipeline')\n",
        "paramGrid = ParamGridBuilder().addGrid(regressor.numTrees,[100,500]).build()\n",
        "crossval = CrossValidator(estimator=pipelineModel,\n",
        "                          estimatorParamMaps = paramGrid,\n",
        "                          evaluator = RegressionEvaluator(labelCol='Performance'),\n",
        "                          numFolds = 3)"
      ],
      "execution_count": null,
      "outputs": []
    },
    {
      "cell_type": "code",
      "metadata": {
        "id": "sM9YJ_EvDTJY"
      },
      "source": [
        "train,test = data.randomSplit([0.8, 0.2], seed = 123)\n",
        "cvModel = crossval.fit(train)"
      ],
      "execution_count": null,
      "outputs": []
    },
    {
      "cell_type": "code",
      "metadata": {
        "colab": {
          "base_uri": "https://localhost:8080/"
        },
        "id": "-kgs8t7EEJj1",
        "outputId": "48814052-a019-466f-ffd2-c829b5045441"
      },
      "source": [
        "bestModel = cvModel.bestModel\n",
        "for x in range(len(bestModel.stages)):\n",
        "  print(bestModel.stages[x])"
      ],
      "execution_count": null,
      "outputs": [
        {
          "output_type": "stream",
          "text": [
            "VectorAssembler_f3c36fc03d8b\n",
            "RandomForestRegressionModel: uid=RandomForestRegressor_b7e9bf1e264b, numTrees=500, numFeatures=6\n"
          ],
          "name": "stdout"
        }
      ]
    },
    {
      "cell_type": "code",
      "metadata": {
        "colab": {
          "base_uri": "https://localhost:8080/"
        },
        "id": "bBnn74HFEKOw",
        "outputId": "83fdc7c4-ff3d-4fd7-a023-32dab3c697b9"
      },
      "source": [
        "pred = cvModel.transform(test)\n",
        "pred.select('Performance','prediction').show()"
      ],
      "execution_count": null,
      "outputs": [
        {
          "output_type": "stream",
          "text": [
            "+-----------+------------------+\n",
            "|Performance|        prediction|\n",
            "+-----------+------------------+\n",
            "|          2|3.4423347532172746|\n",
            "|          2|3.4779011247962313|\n",
            "|          4| 3.579515014187246|\n",
            "|          4|  3.67186498638074|\n",
            "|          4|  3.67186498638074|\n",
            "|          4| 3.651011958834196|\n",
            "|          4| 3.300637574679277|\n",
            "|          4| 3.300637574679277|\n",
            "|          2|3.3602956469872116|\n",
            "|          2|3.3602956469872116|\n",
            "|          4|3.3602956469872116|\n",
            "|          4|3.3802705638882062|\n",
            "|          2|3.3980169512764222|\n",
            "|          2| 3.375729232220516|\n",
            "|          2| 3.187295137900144|\n",
            "|          4|3.2274593488042593|\n",
            "|          4|3.6100871944872344|\n",
            "|          4|3.6100871944872344|\n",
            "|          4| 3.609649590783871|\n",
            "|          4|3.6100871944872344|\n",
            "+-----------+------------------+\n",
            "only showing top 20 rows\n",
            "\n"
          ],
          "name": "stdout"
        }
      ]
    },
    {
      "cell_type": "code",
      "metadata": {
        "colab": {
          "base_uri": "https://localhost:8080/"
        },
        "id": "lXRtNaS0FRrd",
        "outputId": "06bc2ab6-b2e7-4cd0-bdfc-89026b26feea"
      },
      "source": [
        "eval = RegressionEvaluator(labelCol='Performance')\n",
        "rmse = eval.evaluate(pred)\n",
        "mse = eval.evaluate(pred, {eval.metricName:\"mse\"})\n",
        "mae = eval.evaluate(pred, {eval.metricName:\"mae\"})\n",
        "r2 = eval.evaluate(pred, {eval.metricName:\"r2\"})\n",
        "\n",
        "print('RMSE: %.3f' %rmse)\n",
        "print('MSE: %.3f' %mse)\n",
        "print('MAE: %.3f' %mae)\n",
        "print('R2: %.3f' %r2)"
      ],
      "execution_count": null,
      "outputs": [
        {
          "output_type": "stream",
          "text": [
            "RMSE: 0.779\n",
            "MSE: 0.607\n",
            "MAE: 0.658\n",
            "R2: 0.214\n"
          ],
          "name": "stdout"
        }
      ]
    }
  ]
}