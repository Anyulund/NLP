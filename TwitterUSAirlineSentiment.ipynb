{
  "nbformat": 4,
  "nbformat_minor": 0,
  "metadata": {
    "colab": {
      "name": "TwitterUSAirlineSentiment.ipynb",
      "provenance": [],
      "collapsed_sections": [],
      "toc_visible": true,
      "authorship_tag": "ABX9TyOcdB0ujYkV2GHpZxl6oCXc",
      "include_colab_link": true
    },
    "kernelspec": {
      "name": "python3",
      "display_name": "Python 3"
    }
  },
  "cells": [
    {
      "cell_type": "markdown",
      "metadata": {
        "id": "view-in-github",
        "colab_type": "text"
      },
      "source": [
        "<a href=\"https://colab.research.google.com/github/Anyulund/NLP/blob/master/TwitterUSAirlineSentiment.ipynb\" target=\"_parent\"><img src=\"https://colab.research.google.com/assets/colab-badge.svg\" alt=\"Open In Colab\"/></a>"
      ]
    },
    {
      "cell_type": "markdown",
      "metadata": {
        "id": "5icPFz-HIQfm"
      },
      "source": [
        "# Project Description: Twitter US Airline Sentiment\n",
        "## Data Description:\n",
        "A sentiment analysis job about the problems of each major U.S. airline. Twitter data was scraped from\n",
        "February of 2015 and contributors were asked to first classify positive, negative, and neutral tweets, followed\n",
        "by categorizing negative reasons (such as \"late flight\" or \"rude service\").\n",
        "### Dataset:\n",
        "The project is from a dataset from Kaggle.\n",
        "Link to the Kaggle project site: https://www.kaggle.com/crowdflower/twitter-airline-sentiment\n",
        "The dataset has to be downloaded from the above Kaggle website.\n",
        "The dataset has the following columns:\n",
        "* tweet_id\n",
        "* airline_sentiment\n",
        "* airline_sentiment_confidence\n",
        "* negativereason\n",
        "* negativereason_confidence\n",
        "* airline\n",
        "* airline_sentiment_gold\n",
        "* name\n",
        "* negativereason_gold\n",
        "* retweet_count\n",
        "* text\n",
        "* tweet_coord\n",
        "* tweet_created\n",
        "* tweet_location\n",
        "* user_timezone\n",
        "## Objective:\n",
        "To implement the techniques learnt as a part of the course.\n",
        "## Learning Outcomes:\n",
        "\n",
        "Basic understanding of text pre-processing.\n",
        "What to do after text pre-processing:\n",
        "o Bag of words\n",
        "o Tf-idf\n",
        "Build the classification model.\n",
        "Evaluate the Model.\n",
        "\n",
        "## Steps and tasks:\n",
        "\n",
        "1. Import the libraries, load dataset, print shape of data, data description. (5 Marks)\n",
        "2. Understand of data-columns: \n",
        "  * Drop all other columns except “text” and “airline_sentiment”.\n",
        "  *  Check the shape of data.\n",
        "  * Print first 5 rows of data.\n",
        "3. Text pre-processing: Data preparation. \n",
        "    * Html tag removal.\n",
        "    * Tokenization.\n",
        "    * Remove the numbers.\n",
        "    * Removal of Special Characters and Punctuations.\n",
        "    * Conversion to lowercase.\n",
        "    * Lemmatize or stemming.\n",
        "    * Join the words in the list to convert back to text string in the dataframe. (So that each row\n",
        "contains the data in text format.)\n",
        "    * Print first 5 rows of data after pre-processing.\n",
        "4. Vectorization: \n",
        "    * Use CountVectorizer.\n",
        "    * Use TfidfVectorizer.\n",
        "5. Fit and evaluate model using both type of vectorization. \n",
        "6. Summarize your understanding of the application of Various Pre-processing and Vectorization and\n",
        "performance of your model on this dataset. \n",
        "**Happy Learning!**\n"
      ]
    },
    {
      "cell_type": "code",
      "metadata": {
        "colab": {
          "base_uri": "https://localhost:8080/"
        },
        "id": "gn2G-seeJeLw",
        "outputId": "af89b010-c69e-4af1-95ac-b78a37e1df91"
      },
      "source": [
        "from google.colab import drive\n",
        "drive.mount('/content/drive')"
      ],
      "execution_count": null,
      "outputs": [
        {
          "output_type": "stream",
          "text": [
            "Drive already mounted at /content/drive; to attempt to forcibly remount, call drive.mount(\"/content/drive\", force_remount=True).\n"
          ],
          "name": "stdout"
        }
      ]
    },
    {
      "cell_type": "markdown",
      "metadata": {
        "id": "VQ8NoHRldbZD"
      },
      "source": [
        "# 1. Import the libraries, load dataset, print shape of data, data description. (5 Marks)"
      ]
    },
    {
      "cell_type": "code",
      "metadata": {
        "colab": {
          "base_uri": "https://localhost:8080/"
        },
        "id": "wt8tW6VhdQ1W",
        "outputId": "ede25908-0d36-4efe-c3f5-01fcbb051584"
      },
      "source": [
        "# Import necessary libraries.\n",
        "import re, string, unicodedata\n",
        "import pandas as pd\n",
        "import nltk\n",
        "import numpy as np           \n",
        "                        # Natural language processing tool-kit\n",
        "nltk.download('punkt')\n",
        "nltk.download('stopwords')\n",
        "nltk.download('wordnet')\n",
        "\n",
        "!pip install contractions\n",
        "import contractions\n",
        "\n",
        "\n",
        "from bs4 import BeautifulSoup                 # Beautiful soup is a parsing library that can use different parsers.\n",
        "from nltk import word_tokenize, sent_tokenize\n",
        "from nltk.corpus import stopwords, wordnet    # Stopwords, and wordnet corpus\n",
        "from nltk.stem import LancasterStemmer, WordNetLemmatizer\n",
        "\n",
        "from sklearn.preprocessing import OrdinalEncoder\n",
        "from sklearn.model_selection import train_test_split\n",
        "from sklearn.ensemble import RandomForestClassifier\n",
        "from sklearn.model_selection import cross_val_score\n",
        "from sklearn.feature_extraction.text import TfidfVectorizer, CountVectorizer\n",
        "from sklearn.metrics import confusion_matrix\n",
        "\n",
        "import matplotlib.pyplot as plt\n",
        "import seaborn as sns"
      ],
      "execution_count": null,
      "outputs": [
        {
          "output_type": "stream",
          "text": [
            "[nltk_data] Downloading package punkt to /root/nltk_data...\n",
            "[nltk_data]   Package punkt is already up-to-date!\n",
            "[nltk_data] Downloading package stopwords to /root/nltk_data...\n",
            "[nltk_data]   Package stopwords is already up-to-date!\n",
            "[nltk_data] Downloading package wordnet to /root/nltk_data...\n",
            "[nltk_data]   Package wordnet is already up-to-date!\n",
            "Requirement already satisfied: contractions in /usr/local/lib/python3.7/dist-packages (0.0.48)\n",
            "Requirement already satisfied: textsearch>=0.0.21 in /usr/local/lib/python3.7/dist-packages (from contractions) (0.0.21)\n",
            "Requirement already satisfied: pyahocorasick in /usr/local/lib/python3.7/dist-packages (from textsearch>=0.0.21->contractions) (1.4.1)\n",
            "Requirement already satisfied: anyascii in /usr/local/lib/python3.7/dist-packages (from textsearch>=0.0.21->contractions) (0.1.7)\n"
          ],
          "name": "stdout"
        }
      ]
    },
    {
      "cell_type": "code",
      "metadata": {
        "id": "7JtnQ3Gqyeja"
      },
      "source": [
        "import warnings\n",
        "warnings.filterwarnings(\"ignore\")"
      ],
      "execution_count": null,
      "outputs": []
    },
    {
      "cell_type": "code",
      "metadata": {
        "colab": {
          "base_uri": "https://localhost:8080/",
          "height": 495
        },
        "id": "WjUYmU29dmoU",
        "outputId": "30c54076-cc0f-46d1-e2c2-5eaa99bf33ea"
      },
      "source": [
        "# Load dataset.\n",
        "dataset = pd.read_csv('/content/drive/My Drive/PGP/Tweets.csv')\n",
        "dataset.sample(5)"
      ],
      "execution_count": null,
      "outputs": [
        {
          "output_type": "execute_result",
          "data": {
            "text/html": [
              "<div>\n",
              "<style scoped>\n",
              "    .dataframe tbody tr th:only-of-type {\n",
              "        vertical-align: middle;\n",
              "    }\n",
              "\n",
              "    .dataframe tbody tr th {\n",
              "        vertical-align: top;\n",
              "    }\n",
              "\n",
              "    .dataframe thead th {\n",
              "        text-align: right;\n",
              "    }\n",
              "</style>\n",
              "<table border=\"1\" class=\"dataframe\">\n",
              "  <thead>\n",
              "    <tr style=\"text-align: right;\">\n",
              "      <th></th>\n",
              "      <th>tweet_id</th>\n",
              "      <th>airline_sentiment</th>\n",
              "      <th>airline_sentiment_confidence</th>\n",
              "      <th>negativereason</th>\n",
              "      <th>negativereason_confidence</th>\n",
              "      <th>airline</th>\n",
              "      <th>airline_sentiment_gold</th>\n",
              "      <th>name</th>\n",
              "      <th>negativereason_gold</th>\n",
              "      <th>retweet_count</th>\n",
              "      <th>text</th>\n",
              "      <th>tweet_coord</th>\n",
              "      <th>tweet_created</th>\n",
              "      <th>tweet_location</th>\n",
              "      <th>user_timezone</th>\n",
              "    </tr>\n",
              "  </thead>\n",
              "  <tbody>\n",
              "    <tr>\n",
              "      <th>11750</th>\n",
              "      <td>567779193342423040</td>\n",
              "      <td>negative</td>\n",
              "      <td>1.0</td>\n",
              "      <td>Customer Service Issue</td>\n",
              "      <td>0.6606</td>\n",
              "      <td>US Airways</td>\n",
              "      <td>NaN</td>\n",
              "      <td>DomaineD1997</td>\n",
              "      <td>NaN</td>\n",
              "      <td>0</td>\n",
              "      <td>@USAirways great job communicating to the pass...</td>\n",
              "      <td>NaN</td>\n",
              "      <td>2015-02-17 12:14:43 -0800</td>\n",
              "      <td>NC</td>\n",
              "      <td>NaN</td>\n",
              "    </tr>\n",
              "    <tr>\n",
              "      <th>8532</th>\n",
              "      <td>568186350219821057</td>\n",
              "      <td>neutral</td>\n",
              "      <td>1.0</td>\n",
              "      <td>NaN</td>\n",
              "      <td>NaN</td>\n",
              "      <td>Delta</td>\n",
              "      <td>NaN</td>\n",
              "      <td>shypoke1</td>\n",
              "      <td>NaN</td>\n",
              "      <td>0</td>\n",
              "      <td>@JetBlue need flight to ATH from PDX. Do you c...</td>\n",
              "      <td>NaN</td>\n",
              "      <td>2015-02-18 15:12:36 -0800</td>\n",
              "      <td>NaN</td>\n",
              "      <td>Pacific Time (US &amp; Canada)</td>\n",
              "    </tr>\n",
              "    <tr>\n",
              "      <th>13458</th>\n",
              "      <td>569858012967542786</td>\n",
              "      <td>negative</td>\n",
              "      <td>1.0</td>\n",
              "      <td>Lost Luggage</td>\n",
              "      <td>0.3726</td>\n",
              "      <td>American</td>\n",
              "      <td>NaN</td>\n",
              "      <td>Jhosa_M</td>\n",
              "      <td>NaN</td>\n",
              "      <td>0</td>\n",
              "      <td>@AmericanAir Not even on the bag status...will...</td>\n",
              "      <td>NaN</td>\n",
              "      <td>2015-02-23 05:55:12 -0800</td>\n",
              "      <td>Ando por el mundo</td>\n",
              "      <td>Caracas</td>\n",
              "    </tr>\n",
              "    <tr>\n",
              "      <th>2138</th>\n",
              "      <td>569342670184648704</td>\n",
              "      <td>neutral</td>\n",
              "      <td>1.0</td>\n",
              "      <td>NaN</td>\n",
              "      <td>NaN</td>\n",
              "      <td>United</td>\n",
              "      <td>NaN</td>\n",
              "      <td>c4pyro</td>\n",
              "      <td>NaN</td>\n",
              "      <td>0</td>\n",
              "      <td>@united I see two flights with two seats in th...</td>\n",
              "      <td>NaN</td>\n",
              "      <td>2015-02-21 19:47:25 -0800</td>\n",
              "      <td>NaN</td>\n",
              "      <td>NaN</td>\n",
              "    </tr>\n",
              "    <tr>\n",
              "      <th>12729</th>\n",
              "      <td>570043390773084160</td>\n",
              "      <td>negative</td>\n",
              "      <td>1.0</td>\n",
              "      <td>Customer Service Issue</td>\n",
              "      <td>1.0000</td>\n",
              "      <td>American</td>\n",
              "      <td>NaN</td>\n",
              "      <td>blogblogblog</td>\n",
              "      <td>NaN</td>\n",
              "      <td>0</td>\n",
              "      <td>@AmericanAir customer service (if you can call...</td>\n",
              "      <td>NaN</td>\n",
              "      <td>2015-02-23 18:11:49 -0800</td>\n",
              "      <td>Brevard, NC</td>\n",
              "      <td>Central Time (US &amp; Canada)</td>\n",
              "    </tr>\n",
              "  </tbody>\n",
              "</table>\n",
              "</div>"
            ],
            "text/plain": [
              "                 tweet_id  ...               user_timezone\n",
              "11750  567779193342423040  ...                         NaN\n",
              "8532   568186350219821057  ...  Pacific Time (US & Canada)\n",
              "13458  569858012967542786  ...                     Caracas\n",
              "2138   569342670184648704  ...                         NaN\n",
              "12729  570043390773084160  ...  Central Time (US & Canada)\n",
              "\n",
              "[5 rows x 15 columns]"
            ]
          },
          "metadata": {
            "tags": []
          },
          "execution_count": 6
        }
      ]
    },
    {
      "cell_type": "code",
      "metadata": {
        "colab": {
          "base_uri": "https://localhost:8080/"
        },
        "id": "UbbzkcmAekBv",
        "outputId": "f5cebc7c-ff96-408c-ebe5-0a68b9d35aa5"
      },
      "source": [
        "dataset.info()"
      ],
      "execution_count": null,
      "outputs": [
        {
          "output_type": "stream",
          "text": [
            "<class 'pandas.core.frame.DataFrame'>\n",
            "RangeIndex: 14640 entries, 0 to 14639\n",
            "Data columns (total 15 columns):\n",
            " #   Column                        Non-Null Count  Dtype  \n",
            "---  ------                        --------------  -----  \n",
            " 0   tweet_id                      14640 non-null  int64  \n",
            " 1   airline_sentiment             14640 non-null  object \n",
            " 2   airline_sentiment_confidence  14640 non-null  float64\n",
            " 3   negativereason                9178 non-null   object \n",
            " 4   negativereason_confidence     10522 non-null  float64\n",
            " 5   airline                       14640 non-null  object \n",
            " 6   airline_sentiment_gold        40 non-null     object \n",
            " 7   name                          14640 non-null  object \n",
            " 8   negativereason_gold           32 non-null     object \n",
            " 9   retweet_count                 14640 non-null  int64  \n",
            " 10  text                          14640 non-null  object \n",
            " 11  tweet_coord                   1019 non-null   object \n",
            " 12  tweet_created                 14640 non-null  object \n",
            " 13  tweet_location                9907 non-null   object \n",
            " 14  user_timezone                 9820 non-null   object \n",
            "dtypes: float64(2), int64(2), object(11)\n",
            "memory usage: 1.7+ MB\n"
          ],
          "name": "stdout"
        }
      ]
    },
    {
      "cell_type": "markdown",
      "metadata": {
        "id": "WGII5kfpheS6"
      },
      "source": [
        "# 2. Understand of data-columns:\n",
        "*  Drop all other columns except “text” and “airline_sentiment”. \n",
        "*  Check the shape of data. \n",
        "*  Print first 5 rows of data."
      ]
    },
    {
      "cell_type": "code",
      "metadata": {
        "colab": {
          "base_uri": "https://localhost:8080/"
        },
        "id": "5fnf0XZbeYEo",
        "outputId": "2106914e-2aeb-4e6b-fb4e-01f296db7bf9"
      },
      "source": [
        "dataset.columns"
      ],
      "execution_count": null,
      "outputs": [
        {
          "output_type": "execute_result",
          "data": {
            "text/plain": [
              "Index(['tweet_id', 'airline_sentiment', 'airline_sentiment_confidence',\n",
              "       'negativereason', 'negativereason_confidence', 'airline',\n",
              "       'airline_sentiment_gold', 'name', 'negativereason_gold',\n",
              "       'retweet_count', 'text', 'tweet_coord', 'tweet_created',\n",
              "       'tweet_location', 'user_timezone'],\n",
              "      dtype='object')"
            ]
          },
          "metadata": {
            "tags": []
          },
          "execution_count": 8
        }
      ]
    },
    {
      "cell_type": "code",
      "metadata": {
        "colab": {
          "base_uri": "https://localhost:8080/",
          "height": 78
        },
        "id": "rwZJaWVJfNos",
        "outputId": "ea39b2c6-cf9e-4a45-f9d8-41fd87ff3978"
      },
      "source": [
        "df = dataset[['tweet_id','airline_sentiment','text']]\n",
        "\n",
        "# First row of data.\n",
        "pd.set_option('display.max_colwidth', None) # It will enable the entire row visible with truncation of the text. (We can see full text.)\n",
        "df.loc[[10]]"
      ],
      "execution_count": null,
      "outputs": [
        {
          "output_type": "execute_result",
          "data": {
            "text/html": [
              "<div>\n",
              "<style scoped>\n",
              "    .dataframe tbody tr th:only-of-type {\n",
              "        vertical-align: middle;\n",
              "    }\n",
              "\n",
              "    .dataframe tbody tr th {\n",
              "        vertical-align: top;\n",
              "    }\n",
              "\n",
              "    .dataframe thead th {\n",
              "        text-align: right;\n",
              "    }\n",
              "</style>\n",
              "<table border=\"1\" class=\"dataframe\">\n",
              "  <thead>\n",
              "    <tr style=\"text-align: right;\">\n",
              "      <th></th>\n",
              "      <th>tweet_id</th>\n",
              "      <th>airline_sentiment</th>\n",
              "      <th>text</th>\n",
              "    </tr>\n",
              "  </thead>\n",
              "  <tbody>\n",
              "    <tr>\n",
              "      <th>10</th>\n",
              "      <td>570294189143031808</td>\n",
              "      <td>neutral</td>\n",
              "      <td>@VirginAmerica did you know that suicide is the second leading cause of death among teens 10-24</td>\n",
              "    </tr>\n",
              "  </tbody>\n",
              "</table>\n",
              "</div>"
            ],
            "text/plain": [
              "              tweet_id  ...                                                                                             text\n",
              "10  570294189143031808  ...  @VirginAmerica did you know that suicide is the second leading cause of death among teens 10-24\n",
              "\n",
              "[1 rows x 3 columns]"
            ]
          },
          "metadata": {
            "tags": []
          },
          "execution_count": 9
        }
      ]
    },
    {
      "cell_type": "code",
      "metadata": {
        "colab": {
          "base_uri": "https://localhost:8080/"
        },
        "id": "PR5lt0riiEWG",
        "outputId": "685b234a-3893-4fdc-d45d-fefa4a7a2a95"
      },
      "source": [
        "df.shape"
      ],
      "execution_count": null,
      "outputs": [
        {
          "output_type": "execute_result",
          "data": {
            "text/plain": [
              "(14640, 3)"
            ]
          },
          "metadata": {
            "tags": []
          },
          "execution_count": 10
        }
      ]
    },
    {
      "cell_type": "markdown",
      "metadata": {
        "id": "lT2VKYjKieh-"
      },
      "source": [
        "# 3. Text pre-processing: Data preparation. \n",
        " * Html tag removal. \n",
        " * Tokenization.\n",
        " * Remove the numbers.\n",
        " * Removal of Special Characters and Punctuations. \n",
        " * Conversion to lowercase.\n",
        " * Lemmatize or stemming. \n",
        " * Join the words in the list to convert back to text string in the dataframe(So that each row contains the data in text format.)\n",
        " \n",
        "*  Print first 5 rows of data after pre-processing.\n",
        "\n",
        "\n",
        "Regular expressions can be used to remove http links. Example is below. I will use Beautiful Soup to accomplish this task. \n",
        "\n",
        " ```python\n",
        " # Removal of the http link using Regular Expression.\n",
        "for i, row in data.iterrows():\n",
        "    clean_text = re.sub(r\"http\\S+\", \"\", data.at[i, 'text'])\n",
        "    data.at[i,'text'] = clean_text\n",
        "data.head()\n",
        "```\n",
        "\n",
        "Below function can be used for tokenization, special characters and numbers removal combined with GloVe embeddings since they support punctuation, numbers, accents and upper case characters.\n",
        "\n",
        "I will modify this function to remove punctuation, numbers, accents and contractions since we are doing our own vectorizers and TF-IDF.\n",
        "\n",
        "```python\n",
        "def clean_str(string):\n",
        "    \"\"\"\n",
        "    Tokenizes and cleans a string: contractions are broken off from their base words, punctuation is broken out\n",
        "    into its own token, junk characters are removed, etc.\n",
        "    :param string: the string to tokenize (one sentence, typicall)\n",
        "    :return: a string with the same content as the input with whitespace where token boundaries should be, so split()\n",
        "    will tokenize it.\n",
        "    \"\"\"\n",
        "    string = re.sub(r\"[^A-Za-z0-9(),.!?\\'\\`\\-]\", \" \", string)\n",
        "    string = re.sub(r\"\\'s\", \" \\'s\", string)\n",
        "    string = re.sub(r\"\\'ve\", \" \\'ve\", string)\n",
        "    string = re.sub(r\"n\\'t\", \" n\\'t\", string)\n",
        "    string = re.sub(r\"\\'re\", \" \\'re\", string)\n",
        "    string = re.sub(r\"\\'d\", \" \\'d\", string)\n",
        "    string = re.sub(r\"\\'ll\", \" \\'ll\", string)\n",
        "    string = re.sub(r\",\", \" , \", string)\n",
        "    string = re.sub(r\"!\", \" ! \", string)\n",
        "    string = re.sub(r\"\\(\", \" ( \", string)\n",
        "    string = re.sub(r\"\\)\", \" ) \", string)\n",
        "    string = re.sub(r\"\\?\", \" ? \", string)\n",
        "    string = re.sub(r\"\\-\", \" - \", string)\n",
        "    # We may have introduced double spaces, so collapse these down\n",
        "    string = re.sub(r\"\\s{2,}\", \" \", string)\n",
        "    return string\n",
        "```"
      ]
    },
    {
      "cell_type": "code",
      "metadata": {
        "id": "i5HSFCbaXxPu"
      },
      "source": [
        "#Remove stop words first \n",
        "stopwords = stopwords.words('english')\n",
        "\n",
        "customlist = ['not', \"couldn't\", 'didn', \"didn't\", 'doesn', \"doesn't\", 'hadn', \"hadn't\", 'hasn',\n",
        "        \"hasn't\", 'haven', \"haven't\", 'isn', \"isn't\", 'ma', 'mightn', \"mightn't\", 'mustn',\n",
        "        \"mustn't\", 'needn', \"needn't\", 'shan', \"shan't\", 'shouldn', \"shouldn't\", 'wasn',\n",
        "        \"wasn't\", 'weren', \"weren't\", 'won', \"won't\", 'wouldn', \"wouldn't\"]\n",
        "\n",
        "# Set custom stop-word's list as not, couldn't etc. words matter in Sentiment, so not removing them from original data.\n",
        "\n",
        "stopwords = list(set(stopwords) - set(customlist)) \n",
        "\n",
        "\n",
        "\n",
        "def remove_stopwords(string):\n",
        "    \"\"\"Remove stop words from list of tokenized words\"\"\"\n",
        "    string = ' '.join(filter(lambda x: x.lower() not in stopwords,  string.split()))\n",
        "    return string"
      ],
      "execution_count": null,
      "outputs": []
    },
    {
      "cell_type": "code",
      "metadata": {
        "id": "MvTDq-sFYmEU"
      },
      "source": [
        "df['text'] = df['text'].apply(remove_stopwords)"
      ],
      "execution_count": null,
      "outputs": []
    },
    {
      "cell_type": "code",
      "metadata": {
        "id": "7Xc67AKIM4R_"
      },
      "source": [
        "def clean_str(string):\n",
        "    \"\"\"\n",
        "    Tokenizes and cleans a string: contractions are broken off from their base words, punctuation is broken out\n",
        "    into its own token, junk characters are removed, etc.\n",
        "    :param string: the string to tokenize (one sentence, typicall)\n",
        "    :return: a string with the same content as the input with whitespace where token boundaries should be, so split()\n",
        "    will tokenize it.\n",
        "    \"\"\"\n",
        "    soup = BeautifulSoup(string,\"html.parser\")\n",
        "    lemmatizer = WordNetLemmatizer()\n",
        "    \n",
        "    #string = soup.get_text()\n",
        "    string = unicodedata.normalize('NFKD', string).encode('ascii', 'ignore').decode('utf-8', 'ignore') #remove accented characters\n",
        "    string = contractions.fix(string) #remove contractions\n",
        "    string = re.sub(r\"[^A-Za-z0-9(),.!?\\'\\`\\-]\", \" \", string)\n",
        "    string = re.sub(r\"\\'s\", \" \\'s\", string)\n",
        "    string = re.sub(r\"\\'ve\", \" \\'ve\", string)\n",
        "    string = re.sub(r\"n\\'t\", \" n\\'t\", string)\n",
        "    string = re.sub(r\"\\'re\", \" \\'re\", string)\n",
        "    string = re.sub(r\"\\'d\", \" \\'d\", string)\n",
        "    string = re.sub(r\"\\'ll\", \" \\'ll\", string)\n",
        "    string = re.sub(r\"[^\\w\\s]\", \" \", string) #remove punctuations\n",
        "    string = re.sub(r\"!\", \" \", string)\n",
        "    string = re.sub(r\"\\(\", \" \", string)\n",
        "    string = re.sub(r\"\\)\", \" \", string)\n",
        "    string = re.sub(r\"\\?\", \" \", string)\n",
        "    string = re.sub(r\"\\-\", \" \", string)\n",
        "    string = re.sub(r\"\\d+\", \" \", string) #remove numbers\n",
        "    # We may have introduced double spaces, so collapse these down\n",
        "    string = re.sub(r\"\\s{2,}\", \" \", string)\n",
        "    string = string.lower()\n",
        "    string = lemmatizer.lemmatize(string, pos='v')\n",
        "    return string"
      ],
      "execution_count": null,
      "outputs": []
    },
    {
      "cell_type": "code",
      "metadata": {
        "colab": {
          "base_uri": "https://localhost:8080/",
          "height": 198
        },
        "id": "4RjgvU-dRZpd",
        "outputId": "b402349c-a3de-4477-e3d7-70a2869f15fd"
      },
      "source": [
        "df['text'] = df['text'].apply(clean_str)\n",
        "df.head(5)"
      ],
      "execution_count": null,
      "outputs": [
        {
          "output_type": "execute_result",
          "data": {
            "text/html": [
              "<div>\n",
              "<style scoped>\n",
              "    .dataframe tbody tr th:only-of-type {\n",
              "        vertical-align: middle;\n",
              "    }\n",
              "\n",
              "    .dataframe tbody tr th {\n",
              "        vertical-align: top;\n",
              "    }\n",
              "\n",
              "    .dataframe thead th {\n",
              "        text-align: right;\n",
              "    }\n",
              "</style>\n",
              "<table border=\"1\" class=\"dataframe\">\n",
              "  <thead>\n",
              "    <tr style=\"text-align: right;\">\n",
              "      <th></th>\n",
              "      <th>tweet_id</th>\n",
              "      <th>airline_sentiment</th>\n",
              "      <th>text</th>\n",
              "    </tr>\n",
              "  </thead>\n",
              "  <tbody>\n",
              "    <tr>\n",
              "      <th>0</th>\n",
              "      <td>570306133677760513</td>\n",
              "      <td>neutral</td>\n",
              "      <td>virginamerica dhepburn said</td>\n",
              "    </tr>\n",
              "    <tr>\n",
              "      <th>1</th>\n",
              "      <td>570301130888122368</td>\n",
              "      <td>positive</td>\n",
              "      <td>virginamerica plus added commercials experience tacky</td>\n",
              "    </tr>\n",
              "    <tr>\n",
              "      <th>2</th>\n",
              "      <td>570301083672813571</td>\n",
              "      <td>neutral</td>\n",
              "      <td>virginamerica did not today must mean need take another trip</td>\n",
              "    </tr>\n",
              "    <tr>\n",
              "      <th>3</th>\n",
              "      <td>570301031407624196</td>\n",
              "      <td>negative</td>\n",
              "      <td>virginamerica really aggressive blast obnoxious entertainment guests faces amp little recourse</td>\n",
              "    </tr>\n",
              "    <tr>\n",
              "      <th>4</th>\n",
              "      <td>570300817074462722</td>\n",
              "      <td>negative</td>\n",
              "      <td>virginamerica really big bad thing</td>\n",
              "    </tr>\n",
              "  </tbody>\n",
              "</table>\n",
              "</div>"
            ],
            "text/plain": [
              "             tweet_id  ...                                                                                             text\n",
              "0  570306133677760513  ...                                                                     virginamerica dhepburn said \n",
              "1  570301130888122368  ...                                           virginamerica plus added commercials experience tacky \n",
              "2  570301083672813571  ...                                    virginamerica did not today must mean need take another trip \n",
              "3  570301031407624196  ...   virginamerica really aggressive blast obnoxious entertainment guests faces amp little recourse\n",
              "4  570300817074462722  ...                                                               virginamerica really big bad thing\n",
              "\n",
              "[5 rows x 3 columns]"
            ]
          },
          "metadata": {
            "tags": []
          },
          "execution_count": 14
        }
      ]
    },
    {
      "cell_type": "markdown",
      "metadata": {
        "id": "u-GWGaR-M1ZV"
      },
      "source": [
        "# Vectorization: \n",
        " * Use CountVectorizer. \n",
        " * Use TfidfVectorizer."
      ]
    },
    {
      "cell_type": "code",
      "metadata": {
        "colab": {
          "base_uri": "https://localhost:8080/"
        },
        "id": "W9pn4RyBXfE9",
        "outputId": "9b4a374e-67d8-46e0-a73c-fe15ee975979"
      },
      "source": [
        "# Using Count Vectorizer to convert text data to numbers.\n",
        "\n",
        "vectorizerCV = CountVectorizer(max_features=1000)                \n",
        "data_features_CV = vectorizerCV.fit_transform(df['text'])\n",
        "\n",
        "data_features_CV = data_features_CV.toarray()                        \n",
        "\n",
        "data_features_CV.shape"
      ],
      "execution_count": null,
      "outputs": [
        {
          "output_type": "execute_result",
          "data": {
            "text/plain": [
              "(14640, 1000)"
            ]
          },
          "metadata": {
            "tags": []
          },
          "execution_count": 34
        }
      ]
    },
    {
      "cell_type": "code",
      "metadata": {
        "colab": {
          "base_uri": "https://localhost:8080/"
        },
        "id": "AykD_WJ3Zdww",
        "outputId": "8fde88a6-c263-4639-8bd6-dc66fedf7ff5"
      },
      "source": [
        "# Using TfidfVectorizer to convert text data to numbers.\n",
        "\n",
        "vectorizerTFIDF = TfidfVectorizer(max_features=1000)\n",
        "data_features_TFIDF = vectorizerTFIDF.fit_transform(df['text'])\n",
        "\n",
        "data_features_TFIDF = data_features_TFIDF.toarray()\n",
        "\n",
        "data_features_TFIDF.shape"
      ],
      "execution_count": null,
      "outputs": [
        {
          "output_type": "execute_result",
          "data": {
            "text/plain": [
              "(14640, 1000)"
            ]
          },
          "metadata": {
            "tags": []
          },
          "execution_count": 33
        }
      ]
    },
    {
      "cell_type": "markdown",
      "metadata": {
        "id": "EIY2JiNOdu0J"
      },
      "source": [
        "# Fit and evaluate model using both type of vectorization. "
      ]
    },
    {
      "cell_type": "code",
      "metadata": {
        "colab": {
          "base_uri": "https://localhost:8080/",
          "height": 198
        },
        "id": "sgKchA9bdwyH",
        "outputId": "63104265-607c-4cdd-9598-80639295aeb0"
      },
      "source": [
        "ord_enc = OrdinalEncoder()\n",
        "df[\"labels\"] = ord_enc.fit_transform(df[[\"airline_sentiment\"]])\n",
        "\n",
        "labels = df[\"labels\"]\n",
        "labels = labels.astype('int')\n",
        "df[[\"labels\", \"airline_sentiment\"]].head(5)"
      ],
      "execution_count": null,
      "outputs": [
        {
          "output_type": "execute_result",
          "data": {
            "text/html": [
              "<div>\n",
              "<style scoped>\n",
              "    .dataframe tbody tr th:only-of-type {\n",
              "        vertical-align: middle;\n",
              "    }\n",
              "\n",
              "    .dataframe tbody tr th {\n",
              "        vertical-align: top;\n",
              "    }\n",
              "\n",
              "    .dataframe thead th {\n",
              "        text-align: right;\n",
              "    }\n",
              "</style>\n",
              "<table border=\"1\" class=\"dataframe\">\n",
              "  <thead>\n",
              "    <tr style=\"text-align: right;\">\n",
              "      <th></th>\n",
              "      <th>labels</th>\n",
              "      <th>airline_sentiment</th>\n",
              "    </tr>\n",
              "  </thead>\n",
              "  <tbody>\n",
              "    <tr>\n",
              "      <th>0</th>\n",
              "      <td>1.0</td>\n",
              "      <td>neutral</td>\n",
              "    </tr>\n",
              "    <tr>\n",
              "      <th>1</th>\n",
              "      <td>2.0</td>\n",
              "      <td>positive</td>\n",
              "    </tr>\n",
              "    <tr>\n",
              "      <th>2</th>\n",
              "      <td>1.0</td>\n",
              "      <td>neutral</td>\n",
              "    </tr>\n",
              "    <tr>\n",
              "      <th>3</th>\n",
              "      <td>0.0</td>\n",
              "      <td>negative</td>\n",
              "    </tr>\n",
              "    <tr>\n",
              "      <th>4</th>\n",
              "      <td>0.0</td>\n",
              "      <td>negative</td>\n",
              "    </tr>\n",
              "  </tbody>\n",
              "</table>\n",
              "</div>"
            ],
            "text/plain": [
              "   labels airline_sentiment\n",
              "0     1.0           neutral\n",
              "1     2.0          positive\n",
              "2     1.0           neutral\n",
              "3     0.0          negative\n",
              "4     0.0          negative"
            ]
          },
          "metadata": {
            "tags": []
          },
          "execution_count": 48
        }
      ]
    },
    {
      "cell_type": "code",
      "metadata": {
        "id": "7w2gXZl352bR"
      },
      "source": [
        "# Split data into training and testing set.\n",
        "\n",
        "X_trainCV, X_testCV, y_trainCV, y_testCV = train_test_split(data_features_CV, labels, test_size=0.3, random_state=42)\n",
        "\n",
        "X_trainTFIDF, X_testTFIDF, y_trainTFIDF, y_testTFIDF = train_test_split(data_features_TFIDF, labels, test_size=0.3, random_state=42)"
      ],
      "execution_count": null,
      "outputs": []
    },
    {
      "cell_type": "code",
      "metadata": {
        "colab": {
          "base_uri": "https://localhost:8080/"
        },
        "id": "zlX8S0Yp7IAI",
        "outputId": "a135028e-840d-43f5-db0a-09330a73fcb9"
      },
      "source": [
        "# Using Random Forest to build model for the classification of reviews.\n",
        "# Also calculating the cross validation score.\n",
        "\n",
        "forest = RandomForestClassifier(n_estimators=10, n_jobs=4)\n",
        "\n",
        "forestCV = forest.fit(X_trainCV, y_trainCV)\n",
        "\n",
        "forestTFIDF = forest.fit(X_trainTFIDF, y_trainTFIDF)\n",
        "\n",
        "print(forest)\n",
        "\n",
        "print(\"Count Vectorizer\",np.mean(cross_val_score(forestCV, data_features_CV, labels, cv=10)))\n",
        "print(\"TFIDF\",np.mean(cross_val_score(forestTFIDF, data_features_TFIDF, labels, cv=10)))"
      ],
      "execution_count": null,
      "outputs": [
        {
          "output_type": "stream",
          "text": [
            "RandomForestClassifier(bootstrap=True, ccp_alpha=0.0, class_weight=None,\n",
            "                       criterion='gini', max_depth=None, max_features='auto',\n",
            "                       max_leaf_nodes=None, max_samples=None,\n",
            "                       min_impurity_decrease=0.0, min_impurity_split=None,\n",
            "                       min_samples_leaf=1, min_samples_split=2,\n",
            "                       min_weight_fraction_leaf=0.0, n_estimators=10, n_jobs=4,\n",
            "                       oob_score=False, random_state=None, verbose=0,\n",
            "                       warm_start=False)\n",
            "Count Vectorizer 0.700136612021858\n",
            "TFIDF 0.703688524590164\n"
          ],
          "name": "stdout"
        }
      ]
    },
    {
      "cell_type": "code",
      "metadata": {
        "colab": {
          "base_uri": "https://localhost:8080/"
        },
        "id": "1hscsw1nEYM7",
        "outputId": "a84cb57d-f1a8-4391-ffae-62850daeb8d6"
      },
      "source": [
        "resultCV = forestCV.predict(X_testCV)\n",
        "resultTFIDF = forestTFIDF.predict(X_testTFIDF)\n",
        "\n",
        "conf_matCV = confusion_matrix(y_testCV, resultCV)\n",
        "conf_matTFIDF = confusion_matrix(y_testTFIDF, resultTFIDF)\n",
        "\n",
        "df_cmCV = pd.DataFrame(conf_matCV, index = [i for i in \"012\"],\n",
        "                  columns = [i for i in \"012\"])\n",
        "df_cmTFIDF = pd.DataFrame(conf_matTFIDF, index = [i for i in \"012\"],\n",
        "                  columns = [i for i in \"012\"])\n",
        "\n",
        "print(conf_matCV)"
      ],
      "execution_count": null,
      "outputs": [
        {
          "output_type": "stream",
          "text": [
            "[[1856  771  187]\n",
            " [ 278  528   78]\n",
            " [ 124  217  353]]\n"
          ],
          "name": "stdout"
        }
      ]
    },
    {
      "cell_type": "code",
      "metadata": {
        "colab": {
          "base_uri": "https://localhost:8080/",
          "height": 446
        },
        "id": "0AET3_eZFUgq",
        "outputId": "1a0b6196-5d25-40bb-9b57-2acd7640eb98"
      },
      "source": [
        "plt.figure(figsize = (10,7))\n",
        "sns.heatmap(df_cmCV, annot=True, fmt='g', xticklabels=[\"Negative\",\"Neutral\",\"Positive\"], yticklabels=[\"Negative\",\"Neutral\",\"Positive\"])"
      ],
      "execution_count": null,
      "outputs": [
        {
          "output_type": "execute_result",
          "data": {
            "text/plain": [
              "<matplotlib.axes._subplots.AxesSubplot at 0x7f02ff257b50>"
            ]
          },
          "metadata": {
            "tags": []
          },
          "execution_count": 63
        },
        {
          "output_type": "display_data",
          "data": {
            "image/png": "[encoded data removed]",
            "text/plain": [
              "<Figure size 720x504 with 2 Axes>"
            ]
          },
          "metadata": {
            "tags": [],
            "needs_background": "light"
          }
        }
      ]
    },
    {
      "cell_type": "code",
      "metadata": {
        "colab": {
          "base_uri": "https://localhost:8080/",
          "height": 446
        },
        "id": "KIG2fWCkFVZS",
        "outputId": "aa3b9cd6-43fb-4770-98e4-c70a308ba4ce"
      },
      "source": [
        "plt.figure(figsize = (10,7))\n",
        "sns.heatmap(df_cmTFIDF, annot=True, fmt='g',xticklabels=[\"Negative\",\"Neutral\",\"Positive\"], yticklabels=[\"Negative\",\"Neutral\",\"Positive\"])"
      ],
      "execution_count": null,
      "outputs": [
        {
          "output_type": "execute_result",
          "data": {
            "text/plain": [
              "<matplotlib.axes._subplots.AxesSubplot at 0x7f0303cc24d0>"
            ]
          },
          "metadata": {
            "tags": []
          },
          "execution_count": 66
        },
        {
          "output_type": "display_data",
          "data": {
            "image/png": "[encoded data removed]",
            "text/plain": [
              "<Figure size 720x504 with 2 Axes>"
            ]
          },
          "metadata": {
            "tags": [],
            "needs_background": "light"
          }
        }
      ]
    },
    {
      "cell_type": "markdown",
      "metadata": {
        "id": "dgdPKnP-NrMd"
      },
      "source": [
        "# Summarize your understanding of the application of Various Pre-processing and Vectorization and performance of your model on this dataset. \n",
        "\n",
        "\n",
        "- We used dataset which has reviews in text format and their sentiment score on the scale of 1 to 3: negative, neutral and positive.\n",
        "- TFIDF vectorization performed better than Counter Vectorizer\n",
        "- Text preprocessing depends on the methods used. For example punctuation can be included and different stop words can be used\n",
        "\n",
        "\n"
      ]
    }
  ]
}