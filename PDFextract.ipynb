{
  "nbformat": 4,
  "nbformat_minor": 0,
  "metadata": {
    "colab": {
      "name": "PDFextract.ipynb",
      "provenance": [],
      "authorship_tag": "ABX9TyPSUrUk4l1oD7yXNxpTMO/i",
      "include_colab_link": true
    },
    "kernelspec": {
      "name": "python3",
      "display_name": "Python 3"
    }
  },
  "cells": [
    {
      "cell_type": "markdown",
      "metadata": {
        "id": "view-in-github",
        "colab_type": "text"
      },
      "source": [
        "<a href=\"https://colab.research.google.com/github/Anyulund/NLP/blob/master/PDFextract.ipynb\" target=\"_parent\"><img src=\"https://colab.research.google.com/assets/colab-badge.svg\" alt=\"Open In Colab\"/></a>"
      ]
    },
    {
      "cell_type": "markdown",
      "metadata": {
        "id": "xAuvbGZ4F0NJ"
      },
      "source": [
        "This is a tutorial how to extract text from pdfs and doc files. "
      ]
    },
    {
      "cell_type": "code",
      "metadata": {
        "id": "m0pFD3OuFxlq"
      },
      "source": [
        "#Block warnings to provide more presentable notebook \n",
        "\n",
        "import warnings\n",
        "warnings.filterwarnings('ignore')"
      ],
      "execution_count": 1,
      "outputs": []
    },
    {
      "cell_type": "code",
      "metadata": {
        "id": "ln9avLyMF9se",
        "colab": {
          "base_uri": "https://localhost:8080/"
        },
        "outputId": "6f9e9412-9144-4e6d-e36d-d77ba84ece54"
      },
      "source": [
        "#Mount Google Drive with all Data to Google Colab\n",
        "from google.colab import drive\n",
        "drive.mount('/content/drive')"
      ],
      "execution_count": 2,
      "outputs": [
        {
          "output_type": "stream",
          "text": [
            "Mounted at /content/drive\n"
          ],
          "name": "stdout"
        }
      ]
    },
    {
      "cell_type": "code",
      "metadata": {
        "id": "3cRsQ8EFGCdc",
        "colab": {
          "base_uri": "https://localhost:8080/"
        },
        "outputId": "560ed37d-b737-4847-9bac-317b36c9a56a"
      },
      "source": [
        "#Check the path to make sure that all csv files are unzipped and available\n",
        "!ls '/content/drive/My Drive/Fake Resumes'"
      ],
      "execution_count": 3,
      "outputs": [
        {
          "output_type": "stream",
          "text": [
            "jakes-resume.pdf  sixtysecondscv.pdf\n"
          ],
          "name": "stdout"
        }
      ]
    },
    {
      "cell_type": "code",
      "metadata": {
        "id": "In5D6XeTGhPR",
        "colab": {
          "base_uri": "https://localhost:8080/"
        },
        "outputId": "0fb517a4-9dbe-4e06-dece-3ec0a6d0e505"
      },
      "source": [
        "!pip install pdf2image\n",
        "!pip install pytesseract\n",
        "\n"
      ],
      "execution_count": 12,
      "outputs": [
        {
          "output_type": "stream",
          "text": [
            "Requirement already satisfied: pdf2image in /usr/local/lib/python3.7/dist-packages (1.14.0)\n",
            "Requirement already satisfied: pillow in /usr/local/lib/python3.7/dist-packages (from pdf2image) (7.0.0)\n",
            "Requirement already satisfied: pytesseract in /usr/local/lib/python3.7/dist-packages (0.3.7)\n",
            "Requirement already satisfied: Pillow in /usr/local/lib/python3.7/dist-packages (from pytesseract) (7.0.0)\n"
          ],
          "name": "stdout"
        }
      ]
    },
    {
      "cell_type": "code",
      "metadata": {
        "id": "Jwb_NdBtJU4v",
        "colab": {
          "base_uri": "https://localhost:8080/"
        },
        "outputId": "4d2deb97-ba8c-46d6-a54f-659935f07c8a"
      },
      "source": [
        "!python --version"
      ],
      "execution_count": 5,
      "outputs": [
        {
          "output_type": "stream",
          "text": [
            "Python 3.7.10\n"
          ],
          "name": "stdout"
        }
      ]
    },
    {
      "cell_type": "code",
      "metadata": {
        "id": "1QT8G0BRGeG8"
      },
      "source": [
        "#Import all packages\n",
        "\n",
        "import pdf2image\n",
        "import os, sys\n",
        "try:\n",
        "\n",
        "    from PIL import Image\n",
        "except ImportError:\n",
        "    import Image\n",
        "import pytesseract\n",
        "\n",
        "#import docxpy"
      ],
      "execution_count": 6,
      "outputs": []
    },
    {
      "cell_type": "code",
      "metadata": {
        "id": "heWo4zyqHMLS"
      },
      "source": [
        "PATH = '/content/drive/My Drive/Fake Resumes'\n",
        "\n",
        "file = 'sixtysecondscv.pdf'\n",
        "i = 1"
      ],
      "execution_count": 7,
      "outputs": []
    },
    {
      "cell_type": "code",
      "metadata": {
        "id": "V1dq4hYpHe-L"
      },
      "source": [
        "def delete_ppms():\n",
        "  for file in os.listdir(PATH):\n",
        "    if '.ppm' in file or '.DS_Store' in file:\n",
        "      try:\n",
        "          os.remove(PATH + file)\n",
        "      except FileNotFoundError:\n",
        "          pass\n",
        "pdf_files = []\n",
        "docx_files = []\n",
        "\n",
        "delete_ppms()"
      ],
      "execution_count": 8,
      "outputs": []
    },
    {
      "cell_type": "code",
      "metadata": {
        "id": "bnCC-WBQHrbh"
      },
      "source": [
        "for f in os.listdir(PATH):\n",
        "  full_name = os.path.join(PATH, f) #is it path.join or str.join\n",
        "  if os.path.isfile(full_name):\n",
        "    name = os.path.basename(f)\n",
        "    filename, ext = os.path.splitext(name)\n",
        "    if ext == '.pdf':\n",
        "      pdf_files.append(name)\n",
        "    elif ext == ('.docx'):\n",
        "    #elif ext in ('.doc', '.docx'):\n",
        "      docx_files.append(name)"
      ],
      "execution_count": 9,
      "outputs": []
    },
    {
      "cell_type": "code",
      "metadata": {
        "id": "4sSmPUpaISLG",
        "colab": {
          "base_uri": "https://localhost:8080/",
          "height": 86
        },
        "outputId": "b1c6e2e9-bf14-4f13-a149-edd1ede6dc15"
      },
      "source": [
        "'''\n",
        "THIS CODE HAS TO RUN ON THE LOCAL MACHINE SINCE YOU ARE MANIPULATING AND CREATING FILES ON YOUR LOCAL MACHINE\n",
        "\n",
        "\n",
        "delete_ppms()\n",
        "images = pdf2image.convert_from_path(PATH + file, output_folder=PATH)\n",
        "j = 0\n",
        "for file in sorted (os.listdir(PATH)):\n",
        "    if '.ppm' in file and 'image' not in file:\n",
        "      os.rename(PATH + file, PATH + 'image' + str(i) + '-' + str(j) + '.ppm')\n",
        "      j += 1\n",
        "j = 0\n",
        "f = open(PATH +'result{}.txt'.format(i), 'w')\n",
        "files = [f for f in os.listdir(PATH) if '.ppm' in f]\n",
        "\n",
        "for file in sorted(files, key=lambda x: int(x[x.index('-') + 1: x.index('.')])):\n",
        "    #print(\"extracting from:\", file)\n",
        "    temp = pytesseract.image_to_string(Image.open(PATH + file))\n",
        "    f.write(temp)\n",
        "f.close()\n",
        "'''"
      ],
      "execution_count": 13,
      "outputs": [
        {
          "output_type": "execute_result",
          "data": {
            "application/vnd.google.colaboratory.intrinsic+json": {
              "type": "string"
            },
            "text/plain": [
              "'\\nTHIS CODE HAS TO RUN ON THE LOCAL MACHINE SINCE YOU ARE MANIPULATING AND CREATING FILES ON YOUR LOCAL MACHINE\\n\\n\\ndelete_ppms()\\nimages = pdf2image.convert_from_path(PATH + file, output_folder=PATH)\\nj = 0\\nfor file in sorted (os.listdir(PATH)):\\n    if \\'.ppm\\' in file and \\'image\\' not in file:\\n      os.rename(PATH + file, PATH + \\'image\\' + str(i) + \\'-\\' + str(j) + \\'.ppm\\')\\n      j += 1\\nj = 0\\nf = open(PATH +\\'result{}.txt\\'.format(i), \\'w\\')\\nfiles = [f for f in os.listdir(PATH) if \\'.ppm\\' in f]\\n\\nfor file in sorted(files, key=lambda x: int(x[x.index(\\'-\\') + 1: x.index(\\'.\\')])):\\n    #print(\"extracting from:\", file)\\n    temp = pytesseract.image_to_string(Image.open(PATH + file))\\n    f.write(temp)\\nf.close()\\n'"
            ]
          },
          "metadata": {
            "tags": []
          },
          "execution_count": 13
        }
      ]
    }
  ]
}